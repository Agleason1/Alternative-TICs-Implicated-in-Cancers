{
 "cells": [
  {
   "cell_type": "code",
   "execution_count": 1,
   "id": "264f5a64",
   "metadata": {},
   "outputs": [],
   "source": [
    "import math\n",
    "import numpy as np\n",
    "import urllib.request\n",
    "import re\n",
    "# used to parse values into the url\n",
    "import urllib.parse\n",
    "%matplotlib inline\n",
    "import matplotlib.pyplot as plt\n",
    "import time\n",
    "import pandas as pd\n",
    "from Bio import Entrez\n",
    "import time\n",
    "from Bio import SeqIO\n",
    "from textwrap import wrap\n",
    "import seaborn as sns\n",
    "from scipy import stats\n",
    "from collections import Counter\n",
    "import time"
   ]
  },
  {
   "cell_type": "code",
   "execution_count": 2,
   "id": "e438ac66",
   "metadata": {},
   "outputs": [],
   "source": [
    "#Kozak Consensus Scoring System\n",
    "\n",
    "#0=A, 1=T, 2=G, 3=C, 4=N (Missing)\n",
    "weights = np.array([\n",
    "       [0.04210526, 0.        , 0.03157895, 0.05263158, 0.        ],\n",
    "       [0.04210526, 0.05263158, 0.10526316, 0.0625    , 0.        ],\n",
    "       [0.03157895, 0.04210526, 0.05263158, 0.07368421, 0.        ],\n",
    "       [0.03157895, 0.01052632, 0.04210526, 0.05263158, 0.        ],\n",
    "       [0.08421053, 0.07368421, 0.18947368, 0.10526316, 0.        ],\n",
    "       [0.04210526, 0.05263158, 0.05263158, 0.08421053, 0.        ],\n",
    "       [0.12631579, 0.0625    , 0.12631579, 0.21052632, 0.        ],\n",
    "       [0.83157895, 0.12631579, 0.65263158, 0.16842105, 0.        ],\n",
    "       [0.15789474, 0.06315789, 0.11578947, 0.2       , 0.        ],\n",
    "       [0.21052632, 0.09473684, 0.31578947, 0.51578947, 0.        ],\n",
    "       [0.        , 0.        , 0.        , 0.        , 0.        ],\n",
    "       [0.        , 0.        , 0.        , 0.        , 0.        ],\n",
    "       [0.        , 0.        , 0.        , 0.        , 0.        ],\n",
    "       [0.24210526, 0.16666667, 0.53684211, 0.13684211, 0.        ],\n",
    "       [0.15789474, 0.09473684, 0.09473684, 0.24210526, 0.        ],\n",
    "       [0.05263158, 0.08421053, 0.14736842, 0.09473684, 0.        ],\n",
    "       [0.07216495, 0.05263158, 0.10526316, 0.06315789, 0.        ],\n",
    "       [0.        , 0.        , 0.        , 0.05263158, 0.        ],\n",
    "       [0.05263158, 0.05263158, 0.10526316, 0.09473684, 0.        ],\n",
    "       [0.04210526, 0.03157895, 0.05263158, 0.04210526, 0.        ],\n",
    "       [0.        , 0.        , 0.        , 0.        , 0.        ],\n",
    "       [0.04210526, 0.04210526, 0.08421053, 0.07368421, 0.        ],\n",
    "       [0.0625    , 0.04210526, 0.09473684, 0.05263158, 0.        ]\n",
    "])\n",
    "\n",
    "#Below function scores using consensus kozak motif scores\n",
    "def similarity_score(sequence):\n",
    "                \n",
    "    #We need consistency and flexibility:\n",
    "    sequence = sequence.upper().replace('U','T')\n",
    "    \n",
    "    holder=''\n",
    "    \n",
    "    for i in sequence:\n",
    "        if i in 'ACTG':\n",
    "            holder+=i\n",
    "            \n",
    "    sequence=holder\n",
    "    \n",
    "\n",
    "    \n",
    "    numbers=[0]*len(sequence)\n",
    "    \n",
    "    for k in np.arange(len(sequence)):\n",
    "        if sequence[k]=='A':\n",
    "            numbers[k] = 0\n",
    "        elif sequence[k]=='T':\n",
    "            numbers[k] = 1\n",
    "        elif sequence[k]=='G':\n",
    "            numbers[k] = 2\n",
    "        elif sequence[k]=='C':\n",
    "            numbers[k] = 3\n",
    "        else:\n",
    "            numbers[k]=4\n",
    "                \n",
    "    \n",
    "    score = 0\n",
    "    for k in np.arange(len(numbers)):\n",
    "        score += weights[k][numbers[k]]\n",
    "            \n",
    "    max_score = np.sum(weights.max(axis=1))\n",
    "    \n",
    "    score = score/max_score\n",
    "    \n",
    "    #Final scoring value: we take the maximum possible score \n",
    "    #calculated, and return our score divided by the maximum (to normalize from range 0 to 1) \n",
    "    \n",
    "    return(score)"
   ]
  },
  {
   "cell_type": "code",
   "execution_count": 3,
   "id": "f317d31d",
   "metadata": {},
   "outputs": [],
   "source": [
    "noncanonical=pd.read_excel('Alternative TICs in Genes Associated with Cancer.xlsx')\n",
    "noncanonical['Codon']=[i[11:14] for i in noncanonical['Translation Initiation Codon (TIC) with Flanking Sequence']]\n",
    "noncanonical=noncanonical[noncanonical['Codon'].isin(['CTG','GTG','TTG','ACG','AGG','AAG','ATC','ATA','ATT'])]\n",
    "counts=Counter(noncanonical['Codon'])"
   ]
  },
  {
   "cell_type": "code",
   "execution_count": 4,
   "id": "af5f3641",
   "metadata": {},
   "outputs": [],
   "source": [
    "import numpy\n",
    "def absolute_value(val):\n",
    "    a  = int(numpy.round(val/100.*np.array(list(counts.values())).sum(), 0))\n",
    "    return a"
   ]
  },
  {
   "cell_type": "code",
   "execution_count": 25,
   "id": "8b003a43",
   "metadata": {},
   "outputs": [
    {
     "data": {
      "image/png": "[encoded data removed]",
      "text/plain": [
       "<Figure size 432x288 with 1 Axes>"
      ]
     },
     "metadata": {},
     "output_type": "display_data"
    }
   ],
   "source": [
    "font = {'fontname':'Arial'}  \n",
    "plt.rc('font',family='Arial')\n",
    "plt.title(\"\\n\".join(wrap( \"Noncanonical TICs Associated with Cancers\", 25)))\n",
    "_, _, autotexts=plt.pie([float(v) for v in counts.values()], labels=[k for k in counts],\n",
    "               autopct=absolute_value,\n",
    "        shadow=True, startangle=90)\n",
    "\n",
    "for autotext in autotexts:\n",
    "    autotext.set_color('white')\n",
    "    \n",
    "#plt.savefig('Fig1.svg')    "
   ]
  },
  {
   "cell_type": "code",
   "execution_count": 6,
   "id": "afd370c0",
   "metadata": {},
   "outputs": [],
   "source": [
    "Entrez.email =\"email.here@email.com\"\n",
    "\n",
    "results=[]    \n",
    "\n",
    "for nu_id in noncanonical['Nucleotide ID of Transcript']:\n",
    "    try:\n",
    "        request=Entrez.epost('nucleotide',id=nu_id)    \n",
    "        result = Entrez.read(request)\n",
    "        webEnv = result[\"WebEnv\"]\n",
    "        queryKey = result[\"QueryKey\"]\n",
    "        handle = Entrez.efetch(db=\"nucleotide\",retmode=\"xml\", webenv=webEnv, query_key=queryKey)\n",
    "        for index,r in enumerate(Entrez.parse(handle)):\n",
    "            try:\n",
    "                CDS_start= int(re.search(r\"'GBFeature_key\\': \\'CDS\\', \\'GBFeature_location\\': \\'(.*?)\\', \\'GBFeature_intervals\\': \",str(r)).group(1).split('..')[0])-1\n",
    "                seq=r['GBSeq_sequence'].upper()\n",
    "                gene = re.search(r\"{'GBQualifier_name': 'gene', 'GBQualifier_value': '(.*?)'}, {'GBQualifier_name': 'gene_synonym', 'GBQualifier_value': '\", str(r)).group(1)\n",
    "                if len(gene)>20:\n",
    "                    gene='HSPB1'\n",
    "                gene_synonyms = re.search(r\"{\\'GBQualifier_name\\': \\'gene_synonym\\', \\'GBQualifier_value\\': \\'(.*?)'}, {'GBQualifier_name\", str(r)).group(1)\n",
    "                results+=[[gene,CDS_start,seq,nu_id]]\n",
    "\n",
    "            except:\n",
    "                try:\n",
    "                    gene = re.search(r\"{'GBQualifier_name': 'gene', 'GBQualifier_value': '(.*?)'}, {'GBQualifier_name': '\", str(r)).group(1)\n",
    "                    if len(gene)>20:\n",
    "                        gene='HSPB1'\n",
    "                    seq=r['GBSeq_sequence'].upper()\n",
    "                    CDS_start= int(re.search(r\"{'GBFeature_key': 'CDS', 'GBFeature_location': '(.*?)', 'GBFeature_intervals': \",str(r)).group(1).split('..')[0])-1\n",
    "                    results+=[[gene,CDS_start,seq,nu_id]]\n",
    "\n",
    "                except:\n",
    "                    print(nu_id)\n",
    "            \n",
    "    except:\n",
    "        print(nu_id)\n",
    "    \n",
    "    time.sleep(0.15)"
   ]
  },
  {
   "cell_type": "code",
   "execution_count": 7,
   "id": "7fbf8e3e",
   "metadata": {},
   "outputs": [],
   "source": [
    "unique_gene_results=[]\n",
    "genes=[]\n",
    "for i in results:\n",
    "    if i[0] not in genes:\n",
    "        genes+=[i[0]]\n",
    "        unique_gene_results+=[i]"
   ]
  },
  {
   "cell_type": "code",
   "execution_count": 8,
   "id": "a2a1da67",
   "metadata": {},
   "outputs": [
    {
     "name": "stdout",
     "output_type": "stream",
     "text": [
      "0.794190136938405\n"
     ]
    }
   ],
   "source": [
    "KSSs_noncanonical=noncanonical['Kozak Similarity Score (KSS)']\n",
    "print(np.median(KSSs_noncanonical))"
   ]
  },
  {
   "cell_type": "code",
   "execution_count": 9,
   "id": "d62cea35",
   "metadata": {},
   "outputs": [],
   "source": [
    "KSSs_canonical= [similarity_score(i[2][i[1]-10:i[1]+13]) for i in unique_gene_results]"
   ]
  },
  {
   "cell_type": "code",
   "execution_count": 10,
   "id": "89dd9123",
   "metadata": {},
   "outputs": [
    {
     "name": "stdout",
     "output_type": "stream",
     "text": [
      "0.745720193819695\n"
     ]
    }
   ],
   "source": [
    "print(np.median(KSSs_canonical))"
   ]
  },
  {
   "cell_type": "code",
   "execution_count": 11,
   "id": "a40e6254",
   "metadata": {},
   "outputs": [],
   "source": [
    "import pickle\n",
    "\n",
    "with open(\"KSSs_randoms\", \"rb\") as fp:   # Unpickling\n",
    "    KSSs_randoms = pickle.load(fp)\n",
    "\n",
    "\n",
    "with open(\"KSS_randoms_from_gene\", \"rb\") as fp:   # Unpickling\n",
    "    KSS_randoms_from_gene = pickle.load(fp)\n"
   ]
  },
  {
   "cell_type": "code",
   "execution_count": 12,
   "id": "416b305c",
   "metadata": {},
   "outputs": [
    {
     "data": {
      "image/png": "[encoded data removed]",
      "text/plain": [
       "<Figure size 552.96x414.72 with 1 Axes>"
      ]
     },
     "metadata": {
      "needs_background": "light"
     },
     "output_type": "display_data"
    }
   ],
   "source": [
    "font = {'fontname':'Arial'}  \n",
    "plt.rc('font',family='Arial')\n",
    "fig, ax1 = plt.subplots()\n",
    "sp1 = sns.histplot({'94 noncanonical translation initiation codons':KSSs_noncanonical,\\\n",
    "                    \"87 annotated canonical translation initiation codons\":KSSs_canonical,\n",
    "                    \"All codons (363,900) within the trancripts of 87 genes\\n containing TICs implicated in cancers\":KSSs_randoms,\\\n",
    "                    '100,000 random codons sampled from human mRNA\\n of other genes':KSS_randoms_from_gene[0:100000]},\\\n",
    "                   stat='proportion', common_norm=False, bins=19, element='step', fill=False, \\\n",
    "                   alpha=0.7,log_scale=False)\n",
    "\n",
    "ax1.set_xlabel(\"Kozak Similarity Score of Codon\")\n",
    "fig = plt.gcf()\n",
    "fig.set_size_inches([i*1.2 for i in plt.rcParamsDefault[\"figure.figsize\"]])\n",
    "sns.move_legend(ax1, \"upper right\", bbox_to_anchor=(0.66, 0.95))\n",
    "\n",
    "title = sns.despine()\n",
    "\n",
    "fig.tight_layout()\n",
    "\n",
    "#plt.savefig('Fig2.svg')"
   ]
  },
  {
   "cell_type": "code",
   "execution_count": 13,
   "id": "e187492d",
   "metadata": {},
   "outputs": [],
   "source": [
    "gene_kss_dict_unabridged= dict()\n",
    "\n",
    "for gene,kss in zip(noncanonical['Gene '],noncanonical['Kozak Similarity Score (KSS)']):\n",
    "    try:\n",
    "        gene_kss_dict_unabridged[gene]+=[kss]\n",
    "    except:\n",
    "        gene_kss_dict_unabridged[gene]=[kss]"
   ]
  },
  {
   "cell_type": "code",
   "execution_count": 14,
   "id": "81f4744c",
   "metadata": {},
   "outputs": [],
   "source": [
    "def find_possible_codons(seq):\n",
    "    \n",
    "    sites=[m.start() for m in re.finditer('CTG',seq)]+[m.start() for m in re.finditer('GTG',seq)]+\\\n",
    "[m.start() for m in re.finditer('TTG',seq)]+[m.start() for m in re.finditer('ACG',seq)]+\\\n",
    "[m.start() for m in re.finditer('AGG',seq)]+[m.start() for m in re.finditer('AAG',seq)]+\\\n",
    "[m.start() for m in re.finditer('ATC',seq)]+[m.start() for m in re.finditer('ATA',seq)]+\\\n",
    "[m.start() for m in re.finditer('ATC',seq)]+[m.start() for m in re.finditer('ATG',seq)]\n",
    "\n",
    "    return(sites)"
   ]
  },
  {
   "cell_type": "code",
   "execution_count": 15,
   "id": "5c9c5c6e",
   "metadata": {},
   "outputs": [],
   "source": [
    "def compute_rank_unabridged(gene):\n",
    "    try:\n",
    "        \n",
    "        ranks=[]\n",
    "        \n",
    "        for compare_to in gene_kss_dict_unabridged[gene[0]]:\n",
    "            sequence = gene[2]\n",
    "            scores = []\n",
    "            positions = find_possible_codons(sequence[0:gene[1]])\n",
    "            \n",
    "            for i in positions:\n",
    "                upstream=sequence[i-10:i+3]\n",
    "                \n",
    "                if len(upstream)<13:\n",
    "                    upstream=sequence[0:i+3]\n",
    "                    \n",
    "                    while len(upstream)<13:\n",
    "                        upstream='N'+upstream\n",
    "                \n",
    "                downstream=sequence[i+3:i+13]\n",
    "                \n",
    "                if len(downstream)<10:\n",
    "                    downstream+='N'\n",
    "                    \n",
    "                scores+=[similarity_score(upstream+downstream)]\n",
    "            \n",
    "            rank=1\n",
    "            \n",
    "            for score in scores:\n",
    "                if compare_to<score:\n",
    "                    rank+=1\n",
    "                    \n",
    "            ranks+=[rank]\n",
    "            \n",
    "        return([gene[0],sequence[0:gene[1]],ranks,len(positions)])\n",
    "    except:\n",
    "        print(gene[0])\n",
    "    \n",
    "    \n",
    "#[0, 5, 10, 15]"
   ]
  },
  {
   "cell_type": "code",
   "execution_count": 16,
   "id": "d22d6a8d",
   "metadata": {},
   "outputs": [],
   "source": [
    "near_cog_ranks_sets=[]\n",
    "near_cog_num_candidates=[]\n",
    "for i in unique_gene_results:\n",
    "        result=compute_rank_unabridged(i)\n",
    "        near_cog_ranks_sets+=[result[2]]\n",
    "        near_cog_num_candidates+=[result[3]]\n",
    "\n",
    "    \n",
    "near_cog_ranks=[]\n",
    "for i in near_cog_ranks_sets:\n",
    "    for x in i:\n",
    "        near_cog_ranks+=[x]   "
   ]
  },
  {
   "cell_type": "code",
   "execution_count": 17,
   "id": "0173264a",
   "metadata": {},
   "outputs": [
    {
     "data": {
      "text/plain": [
       "ModeResult(mode=array([1]), count=array([22]))"
      ]
     },
     "execution_count": 17,
     "metadata": {},
     "output_type": "execute_result"
    }
   ],
   "source": [
    "stats.mode(near_cog_ranks)"
   ]
  },
  {
   "cell_type": "code",
   "execution_count": 18,
   "id": "d3c99da8",
   "metadata": {},
   "outputs": [
    {
     "data": {
      "text/plain": [
       "0.5531914893617021"
      ]
     },
     "execution_count": 18,
     "metadata": {},
     "output_type": "execute_result"
    }
   ],
   "source": [
    "(sum(np.array(near_cog_ranks)==1)+sum(np.array(near_cog_ranks)==2)+(sum(np.array(near_cog_ranks)==3)))/len(near_cog_ranks)"
   ]
  },
  {
   "cell_type": "code",
   "execution_count": 19,
   "id": "548d0bbb",
   "metadata": {},
   "outputs": [
    {
     "data": {
      "text/plain": [
       "31.06896551724138"
      ]
     },
     "execution_count": 19,
     "metadata": {},
     "output_type": "execute_result"
    }
   ],
   "source": [
    "np.mean(near_cog_num_candidates)"
   ]
  },
  {
   "cell_type": "code",
   "execution_count": 20,
   "id": "10c02f3c",
   "metadata": {},
   "outputs": [
    {
     "data": {
      "text/plain": [
       "3.0"
      ]
     },
     "execution_count": 20,
     "metadata": {},
     "output_type": "execute_result"
    }
   ],
   "source": [
    "np.median(near_cog_ranks)"
   ]
  },
  {
   "cell_type": "code",
   "execution_count": 21,
   "id": "8d5c437f",
   "metadata": {},
   "outputs": [],
   "source": [
    "def compute_rank(gene):\n",
    "    sequence = gene[2]\n",
    "    compare_to=similarity_score(gene[2][gene[1]-10:gene[1]+13])\n",
    "    scores = []\n",
    "    atg_pos = [m.start() for m in re.finditer('ATG',sequence)]\n",
    "    \n",
    "    for i in atg_pos:\n",
    "        upstream=sequence[i-10:i+3]\n",
    "        \n",
    "        if len(upstream)<13:\n",
    "            upstream=sequence[0:i+3]\n",
    "            \n",
    "            while len(upstream)<13:\n",
    "                upstream='N'+upstream\n",
    "        \n",
    "        downstream=sequence[i+3:i+13]\n",
    "        \n",
    "        if len(downstream)<10:\n",
    "            downstream+='N'\n",
    "            \n",
    "        scores+=[similarity_score(upstream+downstream)]\n",
    "    \n",
    "    rank=1\n",
    "    \n",
    "    for score in scores:\n",
    "        if compare_to<score:\n",
    "            rank+=1\n",
    "    \n",
    "    return(rank,len(atg_pos)+1)"
   ]
  },
  {
   "cell_type": "code",
   "execution_count": 22,
   "id": "08c7e29c",
   "metadata": {},
   "outputs": [],
   "source": [
    "canonical_ranks=[]\n",
    "ATGs_per = []\n",
    "\n",
    "for canonical in unique_gene_results:\n",
    "    result=compute_rank(canonical)\n",
    "    canonical_ranks+=[result[0]]\n",
    "    ATGs_per+=[result[1]]"
   ]
  },
  {
   "cell_type": "code",
   "execution_count": 24,
   "id": "46ab967c",
   "metadata": {},
   "outputs": [
    {
     "data": {
      "text/plain": [
       "ModeResult(mode=array([1]), count=array([24]))"
      ]
     },
     "execution_count": 24,
     "metadata": {},
     "output_type": "execute_result"
    }
   ],
   "source": [
    "stats.mode(canonical_ranks)"
   ]
  },
  {
   "cell_type": "code",
   "execution_count": 26,
   "id": "a2df93fe",
   "metadata": {},
   "outputs": [
    {
     "data": {
      "text/plain": [
       "5.0"
      ]
     },
     "execution_count": 26,
     "metadata": {},
     "output_type": "execute_result"
    }
   ],
   "source": [
    "np.median(canonical_ranks)"
   ]
  },
  {
   "cell_type": "code",
   "execution_count": 28,
   "id": "86466f33",
   "metadata": {},
   "outputs": [
    {
     "data": {
      "text/plain": [
       "0.5402298850574713"
      ]
     },
     "execution_count": 28,
     "metadata": {},
     "output_type": "execute_result"
    }
   ],
   "source": [
    "(sum(np.array(canonical_ranks)==1)+sum(np.array(canonical_ranks)==2)+sum(np.array(canonical_ranks)==3)+sum(np.array(canonical_ranks)==4)+sum(np.array(canonical_ranks)==5))/len(canonical_ranks)"
   ]
  },
  {
   "cell_type": "code",
   "execution_count": 30,
   "id": "19cee1e2",
   "metadata": {},
   "outputs": [
    {
     "name": "stdout",
     "output_type": "stream",
     "text": [
      "74.96551724137932\n"
     ]
    }
   ],
   "source": [
    "print(np.mean(ATGs_per))"
   ]
  },
  {
   "cell_type": "code",
   "execution_count": 31,
   "id": "3a73afc8",
   "metadata": {},
   "outputs": [
    {
     "data": {
      "image/png": "[encoded data removed]",
      "text/plain": [
       "<Figure size 432x288 with 1 Axes>"
      ]
     },
     "metadata": {
      "needs_background": "light"
     },
     "output_type": "display_data"
    }
   ],
   "source": [
    "#import seaborn as sns\n",
    "#plt.style.use('seaborn-colorblind')\n",
    "font = {'fontname':'Arial'}  \n",
    "plt.rc('font',family='Arial')\n",
    "fig= plt.figure()\n",
    "ax= fig.add_subplot(111)\n",
    "\n",
    "ax.hist(near_cog_ranks,bins = np.linspace(0,max(canonical_ranks),45),histtype=u'step',alpha=0.8,\n",
    "           weights=np.ones(len(near_cog_ranks)) / len(near_cog_ranks),\n",
    "          label = \"Upstream noncanonical TICs\",linewidth=1.5)\n",
    "\n",
    "ax.hist(canonical_ranks,bins = np.linspace(0,max(canonical_ranks),45),histtype=u'step',alpha=0.8,\n",
    "           weights=np.ones(len(canonical_ranks)) / len(canonical_ranks),\n",
    "          label = \"Annotated canonical TICs\",linewidth=1.5)\n",
    "\n",
    "#title = ax.set_title(\"\\n\".join(wrap('Proportion of TICs by Kozak Similarity Score Rank', 1000)))\n",
    "handles, labels = ax.get_legend_handles_labels()\n",
    "lgd = ax.legend(handles, labels, loc='upper center', bbox_to_anchor=(0.5,-0.18))\n",
    "plt.xlabel(\"Rank\")\n",
    "plt.ylabel(\"Proportion\")\n",
    "ax.spines['right'].set_visible(False)\n",
    "ax.spines['top'].set_visible(False)\n",
    "\n",
    "plt.tight_layout()\n",
    "#plt.savefig('Fig3.svg')\n",
    "plt.show()"
   ]
  },
  {
   "cell_type": "code",
   "execution_count": 32,
   "id": "eba4426c",
   "metadata": {},
   "outputs": [
    {
     "name": "stdout",
     "output_type": "stream",
     "text": [
      "MannwhitneyuResult(statistic=3412.5, pvalue=0.027463165581749896)\n",
      "MannwhitneyuResult(statistic=3325.5, pvalue=0.019718665748882466)\n"
     ]
    }
   ],
   "source": [
    "KSSs_noncanonical_sorted = list(KSSs_noncanonical).copy()\n",
    "KSSs_noncanonical_sorted.sort()\n",
    "print(stats.mannwhitneyu(KSSs_canonical,KSSs_noncanonical_sorted,alternative='less'))\n",
    "print(stats.mannwhitneyu(KSSs_canonical,KSSs_noncanonical_sorted[1:len(KSSs_noncanonical_sorted)],alternative='less'))"
   ]
  }
 ],
 "metadata": {
  "kernelspec": {
   "display_name": "Python 3 (ipykernel)",
   "language": "python",
   "name": "python3"
  },
  "language_info": {
   "codemirror_mode": {
    "name": "ipython",
    "version": 3
   },
   "file_extension": ".py",
   "mimetype": "text/x-python",
   "name": "python",
   "nbconvert_exporter": "python",
   "pygments_lexer": "ipython3",
   "version": "3.8.10"
  }
 },
 "nbformat": 4,
 "nbformat_minor": 5
}

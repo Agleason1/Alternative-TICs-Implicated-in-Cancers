{
 "cells": [
  {
   "cell_type": "code",
   "execution_count": 1,
   "id": "264f5a64",
   "metadata": {},
   "outputs": [],
   "source": [
    "import math\n",
    "import numpy as np\n",
    "import re\n",
    "# used to parse values into the url\n",
    "%matplotlib inline\n",
    "import matplotlib.pyplot as plt\n",
    "import time\n",
    "import pandas as pd\n",
    "from textwrap import wrap\n",
    "from Bio import Entrez\n",
    "from scipy import stats\n",
    "import pickle"
   ]
  },
  {
   "cell_type": "code",
   "execution_count": 2,
   "id": "e438ac66",
   "metadata": {},
   "outputs": [],
   "source": [
    "#Kozak Consensus Scoring System\n",
    "\n",
    "#0=A, 1=T, 2=G, 3=C, 4=N (Missing)\n",
    "weights = np.array([\n",
    "       [0.04210526, 0.        , 0.03157895, 0.05263158, 0.        ],\n",
    "       [0.04210526, 0.05263158, 0.10526316, 0.0625    , 0.        ],\n",
    "       [0.03157895, 0.04210526, 0.05263158, 0.07368421, 0.        ],\n",
    "       [0.03157895, 0.01052632, 0.04210526, 0.05263158, 0.        ],\n",
    "       [0.08421053, 0.07368421, 0.18947368, 0.10526316, 0.        ],\n",
    "       [0.04210526, 0.05263158, 0.05263158, 0.08421053, 0.        ],\n",
    "       [0.12631579, 0.0625    , 0.12631579, 0.21052632, 0.        ],\n",
    "       [0.83157895, 0.12631579, 0.65263158, 0.16842105, 0.        ],\n",
    "       [0.15789474, 0.06315789, 0.11578947, 0.2       , 0.        ],\n",
    "       [0.21052632, 0.09473684, 0.31578947, 0.51578947, 0.        ],\n",
    "       [0.        , 0.        , 0.        , 0.        , 0.        ],\n",
    "       [0.        , 0.        , 0.        , 0.        , 0.        ],\n",
    "       [0.        , 0.        , 0.        , 0.        , 0.        ],\n",
    "       [0.24210526, 0.16666667, 0.53684211, 0.13684211, 0.        ],\n",
    "       [0.15789474, 0.09473684, 0.09473684, 0.24210526, 0.        ],\n",
    "       [0.05263158, 0.08421053, 0.14736842, 0.09473684, 0.        ],\n",
    "       [0.07216495, 0.05263158, 0.10526316, 0.06315789, 0.        ],\n",
    "       [0.        , 0.        , 0.        , 0.05263158, 0.        ],\n",
    "       [0.05263158, 0.05263158, 0.10526316, 0.09473684, 0.        ],\n",
    "       [0.04210526, 0.03157895, 0.05263158, 0.04210526, 0.        ],\n",
    "       [0.        , 0.        , 0.        , 0.        , 0.        ],\n",
    "       [0.04210526, 0.04210526, 0.08421053, 0.07368421, 0.        ],\n",
    "       [0.0625    , 0.04210526, 0.09473684, 0.05263158, 0.        ]\n",
    "])\n",
    "\n",
    "#Below function scores using consensus kozak motif scores\n",
    "def similarity_score(sequence):\n",
    "                \n",
    "    #We need consistency and flexibility:\n",
    "    sequence = sequence.upper().replace('U','T')\n",
    "    \n",
    "    holder=''\n",
    "    \n",
    "    for i in sequence:\n",
    "        if i in 'ACTG':\n",
    "            holder+=i\n",
    "            \n",
    "    sequence=holder\n",
    "    \n",
    "\n",
    "    \n",
    "    numbers=[0]*len(sequence)\n",
    "    \n",
    "    for k in np.arange(len(sequence)):\n",
    "        if sequence[k]=='A':\n",
    "            numbers[k] = 0\n",
    "        elif sequence[k]=='T':\n",
    "            numbers[k] = 1\n",
    "        elif sequence[k]=='G':\n",
    "            numbers[k] = 2\n",
    "        elif sequence[k]=='C':\n",
    "            numbers[k] = 3\n",
    "        else:\n",
    "            numbers[k]=4\n",
    "                \n",
    "    \n",
    "    score = 0\n",
    "    for k in np.arange(len(numbers)):\n",
    "        score += weights[k][numbers[k]]\n",
    "            \n",
    "    max_score = np.sum(weights.max(axis=1))\n",
    "    \n",
    "    score = score/max_score\n",
    "    \n",
    "    #Final scoring value: we take the maximum possible score \n",
    "    #calculated, and return our score divided by the maximum (to normalize from range 0 to 1) \n",
    "    \n",
    "    return(score)"
   ]
  },
  {
   "cell_type": "code",
   "execution_count": 3,
   "id": "db5182f6",
   "metadata": {},
   "outputs": [],
   "source": [
    "noncanonical=pd.read_excel('Alternative TICs in Genes Associated with Cancer.xlsx')\n",
    "noncanonical['Codon']=[i[11:14] for i in noncanonical['Translation Initiation Codon (TIC) with Flanking Sequence']]\n",
    "noncanonical=noncanonical[noncanonical['Codon'].isin(['CTG','GTG','TTG','ACG','AGG','AAG','ATC','ATA','ATT'])]"
   ]
  },
  {
   "cell_type": "code",
   "execution_count": 4,
   "id": "d76ccacd",
   "metadata": {},
   "outputs": [],
   "source": [
    "def find_upstream(sequence,noncanonical_start):\n",
    "    \n",
    "    seq=sequence[0:noncanonical_start]\n",
    "    \n",
    "    sites=[m.start() for m in re.finditer('CTG',seq)]+[m.start() for m in re.finditer('GTG',seq)]+\\\n",
    "[m.start() for m in re.finditer('TTG',seq)]+[m.start() for m in re.finditer('ACG',seq)]+\\\n",
    "[m.start() for m in re.finditer('AGG',seq)]+[m.start() for m in re.finditer('AAG',seq)]+\\\n",
    "[m.start() for m in re.finditer('ATC',seq)]+[m.start() for m in re.finditer('ATA',seq)]+\\\n",
    "[m.start() for m in re.finditer('ATC',seq)]+[m.start() for m in re.finditer('ATG',seq)]\n",
    "\n",
    "    return(len(sites))"
   ]
  },
  {
   "cell_type": "code",
   "execution_count": 5,
   "id": "f9fd1371",
   "metadata": {},
   "outputs": [],
   "source": [
    "def find_upstream_atg(sequence,CDS_start):\n",
    "    seq=sequence[0:CDS_start]\n",
    "\n",
    "    sites=[m.start() for m in re.finditer('ATG',seq)]\n",
    "    \n",
    "    return(len(sites))"
   ]
  },
  {
   "cell_type": "code",
   "execution_count": 6,
   "id": "afd370c0",
   "metadata": {},
   "outputs": [],
   "source": [
    "Entrez.email =\"email.here@email.com\"\n",
    "\n",
    "seqs=[]\n",
    "distances=[]\n",
    "upstream_lengths=[]\n",
    "tot_lengths=[]\n",
    "distance_noncanonical=[]\n",
    "codons_upstream = []\n",
    "codons_total_5primeregion=[]\n",
    "atgs_total_5primeregion=[]\n",
    "genes=[]\n",
    "atg_codons_total=[]\n",
    "\n",
    "\n",
    "\n",
    "for nu_id,noncan_seq,gene in zip(noncanonical['Nucleotide ID of Transcript'],noncanonical['Translation Initiation Codon (TIC) with Flanking Sequence'],noncanonical['Gene ']):\n",
    "    try:\n",
    "        request=Entrez.epost('nucleotide',id=nu_id)    \n",
    "        result = Entrez.read(request)\n",
    "        webEnv = result[\"WebEnv\"]\n",
    "        queryKey = result[\"QueryKey\"]\n",
    "        handle = Entrez.efetch(db=\"nucleotide\",retmode=\"xml\", webenv=webEnv, query_key=queryKey)\n",
    "        for index,r in enumerate(Entrez.parse(handle)):\n",
    "            try:\n",
    "                CDS_start= int(re.search(r\"'GBFeature_key\\': \\'CDS\\', \\'GBFeature_location\\': \\'(.*?)\\', \\'GBFeature_intervals\\': \",str(r)).group(1).split('..')[0])-1\n",
    "                seq=r['GBSeq_sequence'].upper()\n",
    "                noncanonical_start = seq.find(noncan_seq.replace(' ',''))+10\n",
    "                distances+=[CDS_start-noncanonical_start]\n",
    "                tot_lengths+=[len(seq)]\n",
    "                upstream_lengths+=[CDS_start]\n",
    "                distance_noncanonical+=[noncanonical_start]\n",
    "                seqs+=[seq]\n",
    "                codons_upstream+=[find_upstream(seq,noncanonical_start+2)]\n",
    "                codons_total_5primeregion+=[find_upstream(seq,CDS_start+2)]\n",
    "                atgs_total_5primeregion+=[find_upstream_atg(seq,CDS_start+2)]\n",
    "                atg_codons_total+=[find_upstream_atg(seq,len(seq))]\n",
    "\n",
    "                genes+=[gene]\n",
    "                \n",
    "\n",
    "            except:\n",
    "                try:\n",
    "                    seq=r['GBSeq_sequence'].upper()\n",
    "                    CDS_start= int(re.search(r\"{'GBFeature_key': 'CDS', 'GBFeature_location': '(.*?)', 'GBFeature_intervals': \",str(r)).group(1).split('..')[0])-1\n",
    "                    noncanonical_start = seq.find(noncan_seq.replace(' ',''))+10\n",
    "                    distances+=[CDS_start-noncanonical_start]\n",
    "                    tot_lengths+=[len(seq)]\n",
    "                    upstream_lengths+=[CDS_start]\n",
    "                    distance_noncanonical+=[noncanonical_start]\n",
    "                    seqs+=[seq]\n",
    "                    codons_upstream+=[find_upstream(seq,noncanonical_start+2)]\n",
    "                    codons_total_5primeregion+=[find_upstream(seq,CDS_start+2)]\n",
    "                    atgs_total_5primeregion+=[find_upstream_atg(seq,CDS_start+2)]\n",
    "                    atg_codons_total+=[find_upstream_atg(seq,len(seq))]\n",
    "\n",
    "                    genes+=[gene]\n",
    "\n",
    "\n",
    "                except:\n",
    "                    print(nu_id)\n",
    "            \n",
    "    except:\n",
    "        print(nu_id)\n",
    "    \n",
    "    time.sleep(0.15)"
   ]
  },
  {
   "cell_type": "code",
   "execution_count": 7,
   "id": "46330668",
   "metadata": {},
   "outputs": [
    {
     "name": "stdout",
     "output_type": "stream",
     "text": [
      "96 228 EPB41L3\n",
      "37 445 SEPTIN9\n"
     ]
    }
   ],
   "source": [
    "for CDS_pos,noncan_pos,gene in zip(upstream_lengths,distance_noncanonical,genes):\n",
    "    if noncan_pos>CDS_pos:\n",
    "        print(CDS_pos,noncan_pos,gene)"
   ]
  },
  {
   "cell_type": "code",
   "execution_count": 8,
   "id": "2db2ff9d",
   "metadata": {},
   "outputs": [
    {
     "name": "stdout",
     "output_type": "stream",
     "text": [
      "61 86\n"
     ]
    }
   ],
   "source": [
    "print(genes.index('EPB41L3'),genes.index('SEPTIN9'))"
   ]
  },
  {
   "cell_type": "code",
   "execution_count": 9,
   "id": "4dd20fa6",
   "metadata": {},
   "outputs": [],
   "source": [
    "#index_include = [i for i in range(len(genes)) if i not in [genes.index('EPB41L3'),genes.index('SEPTIN9')]]\n",
    "index_include=[i for i in range(94) if i not in [61,86]]"
   ]
  },
  {
   "cell_type": "code",
   "execution_count": 10,
   "id": "06694204",
   "metadata": {},
   "outputs": [],
   "source": [
    "unique_gene_indices=[]\n",
    "unique_genes=[]\n",
    "\n",
    "for index,gene in enumerate(genes):\n",
    "    if gene not in unique_genes:\n",
    "        unique_genes+=[gene]\n",
    "        unique_gene_indices+=[index]"
   ]
  },
  {
   "cell_type": "code",
   "execution_count": 11,
   "id": "3db5b953",
   "metadata": {},
   "outputs": [],
   "source": [
    "CDS_start_pos=[upstream_lengths[i] for i in unique_gene_indices]\n",
    "tot_lengths=[tot_lengths[i] for i in unique_gene_indices]\n",
    "codons_above_atg=[atgs_total_5primeregion[i] for i in unique_gene_indices]\n",
    "atg_codons_total=[atg_codons_total[i] for i in unique_gene_indices]"
   ]
  },
  {
   "cell_type": "code",
   "execution_count": 12,
   "id": "50584c56",
   "metadata": {},
   "outputs": [
    {
     "data": {
      "image/png": "[encoded data removed]",
      "text/plain": [
       "<Figure size 432x288 with 1 Axes>"
      ]
     },
     "metadata": {
      "needs_background": "light"
     },
     "output_type": "display_data"
    }
   ],
   "source": [
    "fig = plt.figure()\n",
    "ax = fig.add_subplot(111)  \n",
    "\n",
    "font = {'fontname':'Arial'}  \n",
    "plt.rc('font',family='Arial')\n",
    "\n",
    "noncanonical_dist=(np.array(distance_noncanonical)[index_include])/(np.array(upstream_lengths)[index_include])\n",
    "ax.hist(noncanonical_dist,bins = 40,histtype=u'step',alpha=0.8, weights=np.ones(len(noncanonical_dist)) / len(noncanonical_dist),\n",
    "          label = \"Upstream noncanonical TICs (5'UTR)\",linewidth=1.5)\n",
    "\n",
    "canonical_dist = np.array(CDS_start_pos)/np.array(tot_lengths)\n",
    "ax.hist(canonical_dist,bins = 24,histtype=u'step',alpha=.8,weights=np.ones(len(canonical_dist)) / len(canonical_dist),\n",
    "          label = \"Canonical TICs (full transcript)\",linewidth=1.5)\n",
    "#ax.set_title(\"\\n\".join(wrap(\"Position of Upstream Noncanonical TICs in the 5’UTR and Canonical TICs in the Full Transcript\", 60)))\n",
    "\n",
    "#Position of Upstream Noncanonical TICs Relative to 5'UTR, and Canonical TICs Relative to entire Transcript\n",
    "#handles, labels = ax.get_legend_handles_labels()\n",
    "#lgd = ax.legend(handles, labels, loc='upper center', bbox_to_anchor=(0.5,-0.18))\n",
    "\n",
    "plt.ylabel(\"Proportion\")\n",
    "plt.xlabel(\"Position Relative to 5'UTR (Blue) or Transcript (Orange)\")\n",
    "ax.spines['right'].set_visible(False)\n",
    "ax.spines['top'].set_visible(False)\n",
    "plt.tight_layout()\n",
    "#plt.savefig('Fig4.svg')\n",
    "plt.show()\n",
    "\n"
   ]
  },
  {
   "cell_type": "code",
   "execution_count": 13,
   "id": "3692ed54",
   "metadata": {},
   "outputs": [
    {
     "name": "stdout",
     "output_type": "stream",
     "text": [
      "510 3351.0 14805\n"
     ]
    }
   ],
   "source": [
    "print(min(tot_lengths),np.median(tot_lengths),max(tot_lengths))"
   ]
  },
  {
   "cell_type": "code",
   "execution_count": 14,
   "id": "57bd8be7",
   "metadata": {},
   "outputs": [
    {
     "name": "stdout",
     "output_type": "stream",
     "text": [
      "37 201.0 1286\n"
     ]
    }
   ],
   "source": [
    "print(min(CDS_start_pos),np.median(CDS_start_pos),max(CDS_start_pos))"
   ]
  },
  {
   "cell_type": "code",
   "execution_count": 15,
   "id": "843086ee",
   "metadata": {},
   "outputs": [
    {
     "name": "stdout",
     "output_type": "stream",
     "text": [
      "Proportion of canonical TICs with no ATG codons upstream: 0.632183908045977\n"
     ]
    }
   ],
   "source": [
    "print('Proportion of canonical TICs with no ATG codons upstream:', sum(np.array(codons_above_atg)==0)/len(codons_above_atg))"
   ]
  },
  {
   "cell_type": "code",
   "execution_count": 16,
   "id": "fc55927e",
   "metadata": {},
   "outputs": [
    {
     "name": "stdout",
     "output_type": "stream",
     "text": [
      "median codons upstream of upstream noncanonical TIC: 13.0\n"
     ]
    }
   ],
   "source": [
    "print('median codons upstream of upstream noncanonical TIC:', np.median(codons_upstream))"
   ]
  },
  {
   "cell_type": "code",
   "execution_count": 17,
   "id": "a4c77bf2",
   "metadata": {},
   "outputs": [],
   "source": [
    "data=[]\n",
    "with  open('non_cancer_genes_all_data',\"rb\") as f:\n",
    "    for _ in range(pickle.load(f)):\n",
    "        data.append(pickle.load(f))"
   ]
  },
  {
   "cell_type": "code",
   "execution_count": 18,
   "id": "d1480c1f",
   "metadata": {},
   "outputs": [
    {
     "name": "stdout",
     "output_type": "stream",
     "text": [
      "CANCER 5'UTR LENGTHS:\n",
      "median: 204.5\n"
     ]
    }
   ],
   "source": [
    "print(\"CANCER 5'UTR LENGTHS:\")\n",
    "print(\"median:\",np.median(np.array(upstream_lengths)[index_include]))"
   ]
  },
  {
   "cell_type": "code",
   "execution_count": 19,
   "id": "e86620a6",
   "metadata": {},
   "outputs": [
    {
     "name": "stdout",
     "output_type": "stream",
     "text": [
      "NON-CANCER 5'UTR LENGTHS:\n",
      "median: 112.0\n"
     ]
    }
   ],
   "source": [
    "print(\"NON-CANCER 5'UTR LENGTHS:\")\n",
    "print(\"median:\",np.median(data[0]))"
   ]
  },
  {
   "cell_type": "code",
   "execution_count": 20,
   "id": "f5c5b073",
   "metadata": {},
   "outputs": [
    {
     "data": {
      "text/plain": [
       "MannwhitneyuResult(statistic=227074.5, pvalue=9.959064870468575e-10)"
      ]
     },
     "execution_count": 20,
     "metadata": {},
     "output_type": "execute_result"
    }
   ],
   "source": [
    "stats.mannwhitneyu(np.array(upstream_lengths)[index_include],data[0],alternative=\"greater\")"
   ]
  }
 ],
 "metadata": {
  "kernelspec": {
   "display_name": "Python 3 (ipykernel)",
   "language": "python",
   "name": "python3"
  },
  "language_info": {
   "codemirror_mode": {
    "name": "ipython",
    "version": 3
   },
   "file_extension": ".py",
   "mimetype": "text/x-python",
   "name": "python",
   "nbconvert_exporter": "python",
   "pygments_lexer": "ipython3",
   "version": "3.8.10"
  }
 },
 "nbformat": 4,
 "nbformat_minor": 5
}
